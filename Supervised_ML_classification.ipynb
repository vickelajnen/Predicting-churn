{
 "cells": [
  {
   "cell_type": "markdown",
   "id": "66d46ecd",
   "metadata": {},
   "source": [
    "# Supervised ML - classification\n",
    "\n",
    "### What we learned from the EDA:\n",
    "\n",
    "* Customers with a low tenure are more likely to churn\n",
    "* Most customers who churn pay month-to-month (hand in hand with previous find)\n",
    "* Customers who churn later on tend to have a higher monthly bill\n",
    "* Customers are more likely to churn if they have a fiber optic service\n",
    "* Customers who do not have internet service are likely to churn\n",
    "\n",
    "### Based on these findings alone, one could argue for...\n",
    "\n",
    "1. Incentivize customers to sign on for longer subscriptions.\n",
    "2. Fiber optic service/provision needs seeing over. Are customers moving to competitors due to pricing, poor quality or both?\n",
    "3. Incentivize package deals. Provide further encouragement for customers to sign on for both phone and internet.\n",
    "\n",
    "Furthermore, we have grouped our customers, infering more information. We have identified 2 distinct groups of customers that are more likely to churn than others. These groups...\n",
    "\n",
    "* Are less likely to have a partner\n",
    "* Are less likely to have a dependent\n",
    "* Are less likely to have phone service\n",
    "* Are more likely to have a DSL connection than fiber optic\n",
    "* Are less likely to have any kind of additional service package (backup, security etc.)\n",
    "* One of these groups is less likely to have any form of streaming service\n",
    "* Are more likely have a month-to-month contract (they can opt out more easily)\n",
    "* One of these groups is less likely to pay online\n",
    "\n",
    "This is all good and well. We could take a customer and run them through our clustering algorithm and already have a pretty good idea of if they are going to churn/retain. Let's go one step further though.\n",
    "\n",
    "### Now, finally, we will move on to supervised classification\n",
    "\n",
    "We will...\n",
    "\n",
    "* Import our data\n",
    "* Split it into a train and test set\n",
    "* Remove customer ID's and later infer these (they are unique for each customer and will only serve to increase noise)\n",
    "* Perform a cross fold evaluation to decide which classification model best suits our data\n",
    "    - We will evaluate models based on **recall**. We select this scoring metric since we want a model thatdetects as many churns as possible. Since most customers who churn do so early on, there is a huge loss (in terms of LTV) for most of our churned customers. Much is to be gained by retaining them.\n",
    "* Perform feature optimization on the most promising model\n",
    "    - Scoring will once again be based on **recall**, since we want to maximize the amount of detected churns.\n",
    "        - Note: choosing recall is advantageous because we have previously identified several metrics (like contract term, tenure, services etc.) that can be used to 'manually' cross-check a churn-flagged customer. The idea here is it is **far more** important to catch a churning customer than to mistakenly offer incetives one who we would retain regardless.\n",
    "* Further enhance the model by performing hyperparameter-tuning\n",
    "* Fit the model to our training data\n",
    "* Final evaluation on our test data\n",
    "\n",
    "The overall idea here is to create a model that will raise flags for us. We can then use this in conjunction with the results from our manual EDA and unsupervised classification to retain as many customers as possible. The strongest argument for this is that **most of** our churned customers leave at an early phase. We miss **a lot** of potential revenue here.\n",
    "\n",
    "Once a model has been selected, it will also be evaluated on F1 and precision. This will be relevant in order to discuss costs associated with false positives and monitoring (if needed) of the implemented model."
   ]
  },
  {
   "cell_type": "markdown",
   "id": "812dcd01",
   "metadata": {},
   "source": [
    "___\n",
    "# Imports & settings"
   ]
  },
  {
   "cell_type": "code",
   "execution_count": 52,
   "id": "4d31051d",
   "metadata": {},
   "outputs": [],
   "source": [
    "# Imports\n",
    "\n",
    "import pandas as pd\n",
    "import numpy as np\n",
    "import os\n",
    "import seaborn as sns\n",
    "import matplotlib.pyplot as plt\n",
    "\n",
    "# Paths\n",
    "\n",
    "# Note : In order to run this code on your machine, make sure the path variable is correct.\n",
    "\n",
    "path = 'C:\\\\Users\\\\victo\\\\00_Nod_coding_bootcamp\\\\Week 10\\\\Project_Telco_churn'\n",
    "os.chdir(path)\n",
    "figures = path + '\\\\Figures\\\\KMeans\\\\'\n",
    "data = path + '\\\\Data\\\\'"
   ]
  },
  {
   "cell_type": "code",
   "execution_count": 53,
   "id": "1624e867",
   "metadata": {},
   "outputs": [],
   "source": [
    "# Figure settings\n",
    "\n",
    "fig_size = (24,16)\n",
    "title_size = 30\n",
    "label_size = 25\n",
    "tick_size = 20\n",
    "sns.set_style(\"darkgrid\")\n",
    "sns.set_palette(\"Paired\")"
   ]
  },
  {
   "cell_type": "markdown",
   "id": "3f7b6e9c",
   "metadata": {},
   "source": [
    "___\n",
    "# Data"
   ]
  },
  {
   "cell_type": "code",
   "execution_count": 54,
   "id": "1a91c520",
   "metadata": {},
   "outputs": [],
   "source": [
    "df = pd.read_csv(data + 'WA_Fn-UseC_-Telco-Customer-Churn_CLUSTERS.csv')\n",
    "df.drop(columns = [\"customerID\", \"Unnamed: 0\"], inplace = True)\n",
    "df.reset_index(drop = True, inplace = True)\n",
    "target = 'Churn'\n",
    "X = df.drop(columns = target)\n",
    "y = df[target]"
   ]
  },
  {
   "cell_type": "markdown",
   "id": "fdaf2ecd",
   "metadata": {},
   "source": [
    "#### Split data"
   ]
  },
  {
   "cell_type": "code",
   "execution_count": 55,
   "id": "a555bee3",
   "metadata": {},
   "outputs": [],
   "source": [
    "from sklearn.model_selection import train_test_split\n",
    "\n",
    "X_train, X_test, y_train, y_test = train_test_split(X, y, random_state = 42)"
   ]
  },
  {
   "cell_type": "markdown",
   "id": "68925d28",
   "metadata": {},
   "source": [
    "___\n",
    "# Preprocessing"
   ]
  },
  {
   "cell_type": "code",
   "execution_count": 56,
   "id": "d60924f0",
   "metadata": {},
   "outputs": [],
   "source": [
    "from sklearn.preprocessing import RobustScaler, OneHotEncoder, StandardScaler\n",
    "from sklearn.compose import make_column_selector, make_column_transformer\n",
    "from sklearn.pipeline import make_pipeline"
   ]
  },
  {
   "cell_type": "code",
   "execution_count": 57,
   "id": "71b84a97",
   "metadata": {},
   "outputs": [],
   "source": [
    "scaler = StandardScaler()\n",
    "encoder = OneHotEncoder(drop = \"if_binary\")\n",
    "\n",
    "num_cols = make_column_selector(dtype_include = \"number\")\n",
    "cat_cols = make_column_selector(dtype_include = \"object\")\n",
    "\n",
    "preprocessing = make_column_transformer((scaler, num_cols),\n",
    "                                        (encoder, cat_cols))"
   ]
  },
  {
   "cell_type": "markdown",
   "id": "c5bb5e23",
   "metadata": {},
   "source": [
    "# Evaluation with `GridSearchCV`"
   ]
  },
  {
   "cell_type": "code",
   "execution_count": 58,
   "id": "0e8dcc89",
   "metadata": {},
   "outputs": [],
   "source": [
    "from sklearn.linear_model import LogisticRegression\n",
    "from sklearn.tree import DecisionTreeClassifier\n",
    "from sklearn.ensemble import RandomForestClassifier\n",
    "from sklearn.svm import SVC\n",
    "from sklearn.neighbors import KNeighborsClassifier\n",
    "\n",
    "classifiers = [LogisticRegression(max_iter = 1000),\n",
    "               DecisionTreeClassifier(random_state = 42),\n",
    "               RandomForestClassifier(random_state = 42),\n",
    "               SVC(random_state = 42),\n",
    "               KNeighborsClassifier()]"
   ]
  },
  {
   "cell_type": "code",
   "execution_count": 59,
   "id": "cef3aa22",
   "metadata": {
    "scrolled": false
   },
   "outputs": [
    {
     "name": "stdout",
     "output_type": "stream",
     "text": [
      "-----------------------------recall-----------------------------\n",
      "\n",
      "\n",
      "recall-score for LogisticRegression(max_iter=1000):\n",
      "0.53022\n",
      "\n",
      "\n",
      "recall-score for DecisionTreeClassifier(random_state=42):\n",
      "0.49928\n",
      "\n",
      "\n",
      "recall-score for RandomForestClassifier(random_state=42):\n",
      "0.47194\n",
      "\n",
      "\n",
      "recall-score for SVC(random_state=42):\n",
      "0.46403\n",
      "\n",
      "\n",
      "recall-score for KNeighborsClassifier():\n",
      "0.52014\n",
      "\n",
      "\n",
      "-----------------------------precision-----------------------------\n",
      "\n",
      "\n",
      "precision-score for LogisticRegression(max_iter=1000):\n",
      "0.65358\n",
      "\n",
      "\n",
      "precision-score for DecisionTreeClassifier(random_state=42):\n",
      "0.49116\n",
      "\n",
      "\n",
      "precision-score for RandomForestClassifier(random_state=42):\n",
      "0.61402\n",
      "\n",
      "\n",
      "precision-score for SVC(random_state=42):\n",
      "0.66359\n",
      "\n",
      "\n",
      "precision-score for KNeighborsClassifier():\n",
      "0.54541\n",
      "\n",
      "\n",
      "-----------------------------accuracy-----------------------------\n",
      "\n",
      "\n",
      "accuracy-score for LogisticRegression(max_iter=1000):\n",
      "0.80196\n",
      "\n",
      "\n",
      "accuracy-score for DecisionTreeClassifier(random_state=42):\n",
      "0.73097\n",
      "\n",
      "\n",
      "accuracy-score for RandomForestClassifier(random_state=42):\n",
      "0.78284\n",
      "\n",
      "\n",
      "accuracy-score for SVC(random_state=42):\n",
      "0.79647\n",
      "\n",
      "\n",
      "accuracy-score for KNeighborsClassifier():\n",
      "0.75937\n",
      "\n",
      "\n",
      "-----------------------------f1-----------------------------\n",
      "\n",
      "\n",
      "f1-score for LogisticRegression(max_iter=1000):\n",
      "0.58483\n",
      "\n",
      "\n",
      "f1-score for DecisionTreeClassifier(random_state=42):\n",
      "0.49405\n",
      "\n",
      "\n",
      "f1-score for RandomForestClassifier(random_state=42):\n",
      "0.53324\n",
      "\n",
      "\n",
      "f1-score for SVC(random_state=42):\n",
      "0.54525\n",
      "\n",
      "\n",
      "f1-score for KNeighborsClassifier():\n",
      "0.53176\n",
      "\n",
      "\n",
      "-----------------------------roc_auc-----------------------------\n",
      "\n",
      "\n",
      "roc_auc-score for LogisticRegression(max_iter=1000):\n",
      "0.84074\n",
      "\n",
      "\n",
      "roc_auc-score for DecisionTreeClassifier(random_state=42):\n",
      "0.65838\n",
      "\n",
      "\n",
      "roc_auc-score for RandomForestClassifier(random_state=42):\n",
      "0.82055\n",
      "\n",
      "\n",
      "roc_auc-score for SVC(random_state=42):\n",
      "0.7904\n",
      "\n",
      "\n",
      "roc_auc-score for KNeighborsClassifier():\n",
      "0.77543\n",
      "\n",
      "\n"
     ]
    }
   ],
   "source": [
    "from sklearn.model_selection import GridSearchCV\n",
    "scoring = ['recall',\n",
    "           'precision',\n",
    "           'accuracy',\n",
    "           'f1',\n",
    "           'roc_auc']\n",
    "\n",
    "for k in scoring:\n",
    "    print(f\"-----------------------------{k}-----------------------------\\n\\n\")\n",
    "    for i in classifiers:\n",
    "\n",
    "        pipe = make_pipeline(preprocessing, i)\n",
    "        grid = GridSearchCV(estimator = pipe, \n",
    "                            cv = 10,\n",
    "                            scoring = k,\n",
    "                            param_grid = {})\n",
    "\n",
    "\n",
    "        grid.fit(X_train, y_train)\n",
    "        print(f\"{k}-score for {i}:\\n{round(grid.best_score_,5)}\\n\\n\")"
   ]
  },
  {
   "cell_type": "code",
   "execution_count": 60,
   "id": "248ba0f5",
   "metadata": {},
   "outputs": [
    {
     "data": {
      "image/png": "[encoded data removed]",
      "text/plain": [
       "<Figure size 432x288 with 2 Axes>"
      ]
     },
     "metadata": {},
     "output_type": "display_data"
    }
   ],
   "source": [
    "from sklearn.metrics import confusion_matrix, ConfusionMatrixDisplay\n",
    "\n",
    "pipe = make_pipeline(preprocessing, LogisticRegression(max_iter=1000))\n",
    "pipe.fit(X_train, y_train)\n",
    "\n",
    "y_pred = pipe.predict(X_test)\n",
    "M = confusion_matrix(y_test, y_pred)\n",
    "ConfusionMatrixDisplay(M).plot()\n",
    "plt.grid(None)"
   ]
  },
  {
   "cell_type": "markdown",
   "id": "bb3f9699",
   "metadata": {},
   "source": [
    "### Model evaluation\n",
    "\n",
    "Based on the cross fold evaluation, we will move on with a logistic regression classifier model."
   ]
  },
  {
   "cell_type": "markdown",
   "id": "7f85884f",
   "metadata": {},
   "source": [
    "# Tuning the LogReg-model\n",
    "\n",
    "First, we will perform feature selection. We will do this by concidering all possible combinations."
   ]
  },
  {
   "cell_type": "code",
   "execution_count": 61,
   "id": "20ea4c62",
   "metadata": {},
   "outputs": [
    {
     "name": "stdout",
     "output_type": "stream",
     "text": [
      "There are a total of 1048575 combinations!\n"
     ]
    }
   ],
   "source": [
    "import itertools\n",
    "\n",
    "cols = list(X_train.columns)\n",
    "combinations = {}\n",
    "\n",
    "for i in range(1, len(cols)+1):\n",
    "    combinations[i] = list(itertools.combinations(cols, r = i))\n",
    "    \n",
    "count = 0\n",
    "\n",
    "for i in combinations.keys():\n",
    "    count += len(combinations[i])\n",
    "print(\"There are a total of\", count, \"combinations!\")"
   ]
  },
  {
   "cell_type": "markdown",
   "id": "66262959",
   "metadata": {},
   "source": [
    "### 10487575 combinations\n",
    "\n",
    "Is quite a lot to consider!\n",
    "\n",
    "As it turns out, running this optimization takes _**EXTREMELY**_ long. Instead, lets look at the coefficients for the model when we train it on all available features. We will run the optimization over night and see how it turns out bur for now lets do it the simpler way."
   ]
  },
  {
   "cell_type": "markdown",
   "id": "4d121d32",
   "metadata": {},
   "source": [
    "# Check the coefficients"
   ]
  },
  {
   "cell_type": "code",
   "execution_count": 62,
   "id": "cf32a7f8",
   "metadata": {},
   "outputs": [],
   "source": [
    "pipe = make_pipeline(RobustScaler(), LogisticRegression(max_iter = 1000))\n",
    "X_train_dummy = pd.get_dummies(X_train, drop_first = True)\n",
    "pipe.fit(X_train_dummy, y_train)\n",
    "coefs = pipe[1].coef_[0]"
   ]
  },
  {
   "cell_type": "code",
   "execution_count": 63,
   "id": "27e64516",
   "metadata": {},
   "outputs": [],
   "source": [
    "import numpy as np\n",
    "feat_imp = list(zip(coefs, X_train_dummy.columns))\n",
    "feat_imp.sort(key = lambda x: np.abs(x[0]))   \n",
    "feat_imp.reverse()"
   ]
  },
  {
   "cell_type": "markdown",
   "id": "aca953ed",
   "metadata": {},
   "source": [
    "### Coefficients and corresponding features\n",
    "\n",
    "We can study each feature and corresponding coefficient in order to say which features seem the most important. Based on this, we will try reducing the model to only fit data from the following features:\n",
    "\n",
    "* Tenure\n",
    "* Group (nice)\n",
    "* TotalCharges\n",
    "* Monthly Charges\n",
    "* Contract\n",
    "* Package services\n",
    "* Phone service\n",
    "* Internet service"
   ]
  },
  {
   "cell_type": "code",
   "execution_count": 64,
   "id": "40bc06e4",
   "metadata": {},
   "outputs": [],
   "source": [
    "from sklearn.metrics import recall_score"
   ]
  },
  {
   "cell_type": "code",
   "execution_count": 65,
   "id": "d0c3cd7e",
   "metadata": {},
   "outputs": [],
   "source": [
    "feats = ['tenure',\n",
    "         'group',\n",
    "         'TotalCharges',\n",
    "         'Contract',\n",
    "         'MonthlyCharges',\n",
    "         'InternetService',\n",
    "         'PhoneService',\n",
    "         'MultipleLines']"
   ]
  },
  {
   "cell_type": "code",
   "execution_count": 66,
   "id": "2b4a7f3c",
   "metadata": {},
   "outputs": [
    {
     "data": {
      "text/plain": [
       "0.5678496868475992"
      ]
     },
     "execution_count": 66,
     "metadata": {},
     "output_type": "execute_result"
    }
   ],
   "source": [
    "X_train_sub = X_train[feats]\n",
    "X_test_sub = X_test[feats]\n",
    "\n",
    "pipe = make_pipeline(preprocessing, LogisticRegression())\n",
    "pipe.fit(X_train_sub, y_train)\n",
    "recall_score(y_test, pipe.predict(X_test_sub))"
   ]
  },
  {
   "cell_type": "markdown",
   "id": "f3d95fd6",
   "metadata": {},
   "source": [
    "### Conclusion\n",
    "The score has increased somewhat, from ~ 0.57 to ~ 0.65. Lets try one more method: randomly picking combinations of features, beginning with a minimum of 5 features and working our way up. Initial tests indicate that high numbers of features reduce the score. So lets set the range of features between 5 and 15. We will do this because:\n",
    "* The entire point of this effort is to reduce the number of features\n",
    "* It will save time\n",
    "\n",
    "We will randomly generate 200 combinations for each allowed number of features and select the best one for each."
   ]
  },
  {
   "cell_type": "code",
   "execution_count": 67,
   "id": "791dff8c",
   "metadata": {},
   "outputs": [
    {
     "name": "stdout",
     "output_type": "stream",
     "text": [
      "Done\n",
      "\n",
      "\n",
      "Results:\n",
      "\n",
      "Best number of features:\t 10\n",
      "Best score achieved:\t\t 0.5467625899280575\n",
      "With features:\n",
      "\t\t\t\t TechSupport\n",
      "\t\t\t\t tenure\n",
      "\t\t\t\t Contract\n",
      "\t\t\t\t MultipleLines\n",
      "\t\t\t\t TotalCharges\n",
      "\t\t\t\t OnlineBackup\n",
      "\t\t\t\t Dependents\n",
      "\t\t\t\t OnlineSecurity\n",
      "\t\t\t\t group\n",
      "\t\t\t\t Partner\n"
     ]
    }
   ],
   "source": [
    "from sklearn.model_selection import cross_val_score\n",
    "from IPython.display import clear_output\n",
    "import random\n",
    "\n",
    "samples = 200\n",
    "models = []\n",
    "pipe = make_pipeline(preprocessing, LogisticRegression(max_iter=1000))\n",
    "\n",
    "for i in range(5, 16):\n",
    "    \n",
    "    scorer = 0\n",
    "    features = 0\n",
    "    score = 0\n",
    "    \n",
    "    for iter in range(0,samples):\n",
    "        \n",
    "        # Randomly select features 200 times and get the best score\n",
    "        \n",
    "        clear_output(wait=True)\n",
    "        print(\"Feature range:\\t5-16\")\n",
    "        print(f\"Samples:\\t{samples}\\n\")\n",
    "        print(\"Features:\\t\", i)\n",
    "        print(\"Combination:\\t\",iter,f\"/ {samples}\")\n",
    "        print(\"Score:\\t\\t\", score)\n",
    "        print(\"Best score:\\t\", scorer)\n",
    "        \n",
    "        index = random.sample(range(1,20),i)\n",
    "        feats = [X_train.columns[k] for k in index]\n",
    "        \n",
    "        print(\"\\nTesting features:\\n\")\n",
    "        \n",
    "        for f in feats:\n",
    "            print(f)\n",
    "            \n",
    "        print(\"\\nWeLcOmE tO tHe MaTrIx\\n\\n\\n\\n\\n\")\n",
    "        \n",
    "        X_train_sub = X_train[feats]\n",
    "        \n",
    "        score = np.mean(cross_val_score(pipe,\n",
    "                                        X_train_sub,\n",
    "                                        y_train,\n",
    "                                        cv = 5,\n",
    "                                        scoring ='recall',\n",
    "                                        n_jobs = -1))\n",
    "        \n",
    "        if score > scorer:\n",
    "            scorer = score\n",
    "            features = feats\n",
    "            \n",
    "    models.append((scorer, features, i))\n",
    "\n",
    "models.sort(key = lambda x: x[0])\n",
    "clear_output(wait=True)\n",
    "print(\"Done\\n\\n\\nResults:\\n\")\n",
    "\n",
    "print('Best number of features:\\t', models[-1][2])\n",
    "print('Best score achieved:\\t\\t', models[-1][0])\n",
    "print('With features:')\n",
    "\n",
    "for i in models[-1][1]:\n",
    "    print(\"\\t\\t\\t\\t\",i)"
   ]
  },
  {
   "cell_type": "markdown",
   "id": "66c2c515",
   "metadata": {},
   "source": [
    "### Conclusions\n",
    "\n",
    "Based on our random feature sampling/optimization, it seems our model works best when using 7 features, these being:\n",
    "\n",
    "* Contract\n",
    "* StreamingMovies\n",
    "* InternetService\n",
    "* SeniorCitizen\n",
    "* MultipleLines\n",
    "* DeviceProtection\n",
    "* group"
   ]
  },
  {
   "cell_type": "code",
   "execution_count": 68,
   "id": "24d83b91",
   "metadata": {},
   "outputs": [
    {
     "data": {
      "text/plain": [
       "['TechSupport',\n",
       " 'tenure',\n",
       " 'Contract',\n",
       " 'MultipleLines',\n",
       " 'TotalCharges',\n",
       " 'OnlineBackup',\n",
       " 'Dependents',\n",
       " 'OnlineSecurity',\n",
       " 'group',\n",
       " 'Partner']"
      ]
     },
     "execution_count": 68,
     "metadata": {},
     "output_type": "execute_result"
    }
   ],
   "source": [
    "feats = models[-1][1]\n",
    "feats"
   ]
  },
  {
   "cell_type": "code",
   "execution_count": 69,
   "id": "dba800ea",
   "metadata": {},
   "outputs": [],
   "source": [
    "X_train_sub = X_train[feats]"
   ]
  },
  {
   "cell_type": "markdown",
   "id": "2efcddae",
   "metadata": {},
   "source": [
    "# Hyperparameter tuning\n",
    "\n",
    "We are now ready to perform hyper parameter tuning on our model in order to maximize our performance (hopefully)."
   ]
  },
  {
   "cell_type": "code",
   "execution_count": 74,
   "id": "ea9c1764",
   "metadata": {},
   "outputs": [
    {
     "name": "stdout",
     "output_type": "stream",
     "text": [
      "Best: 0.538609 using {'logisticregression__C': 10, 'logisticregression__penalty': 'l2', 'logisticregression__solver': 'liblinear'}\n"
     ]
    }
   ],
   "source": [
    "from sklearn.model_selection import RepeatedStratifiedKFold\n",
    "\n",
    "solvers = ['newton-cg', 'lbfgs', 'liblinear']\n",
    "penalty = ['l2']\n",
    "c_values = [1000, 100, 10, 1.0, 0.1, 0.01, 0.001]\n",
    "\n",
    "grid = {\"logisticregression__solver\":solvers,\n",
    "        \"logisticregression__penalty\":penalty,\n",
    "        \"logisticregression__C\":c_values}\n",
    "\n",
    "cv = RepeatedStratifiedKFold(n_splits=10,\n",
    "                             n_repeats=3,\n",
    "                             random_state=42)\n",
    "\n",
    "pipe = make_pipeline(preprocessing, LogisticRegression(max_iter = 1000))\n",
    "\n",
    "grid_search = GridSearchCV(estimator = pipe,\n",
    "                           param_grid=grid,\n",
    "                           n_jobs=-1,\n",
    "                           cv=cv,\n",
    "                           scoring='recall',\n",
    "                           error_score=0)\n",
    "\n",
    "grid_result = grid_search.fit(X_train_sub, y_train)\n",
    "\n",
    "\n",
    "print(\"Best: %f using %s\" % (grid_result.best_score_, grid_result.best_params_))\n",
    "\n",
    "means = grid_result.cv_results_['mean_test_score']\n",
    "stds = grid_result.cv_results_['std_test_score']\n",
    "params = grid_result.cv_results_['params']"
   ]
  },
  {
   "cell_type": "code",
   "execution_count": 75,
   "id": "317db58e",
   "metadata": {},
   "outputs": [
    {
     "data": {
      "text/plain": [
       "0.5720250521920668"
      ]
     },
     "execution_count": 75,
     "metadata": {},
     "output_type": "execute_result"
    }
   ],
   "source": [
    "y_pred = grid_result.predict(X_test[feats])\n",
    "recall_score(y_test, y_pred)"
   ]
  },
  {
   "cell_type": "code",
   "execution_count": 77,
   "id": "e98e9d84",
   "metadata": {},
   "outputs": [
    {
     "data": {
      "text/plain": [
       "<sklearn.metrics._plot.confusion_matrix.ConfusionMatrixDisplay at 0x26ae1c2ad00>"
      ]
     },
     "execution_count": 77,
     "metadata": {},
     "output_type": "execute_result"
    },
    {
     "data": {
      "image/png": "[encoded data removed]",
      "text/plain": [
       "<Figure size 432x288 with 2 Axes>"
      ]
     },
     "metadata": {},
     "output_type": "display_data"
    }
   ],
   "source": [
    "ConfusionMatrixDisplay(confusion_matrix(y_train, grid_result.predict(X_train_sub))).plot()"
   ]
  },
  {
   "cell_type": "code",
   "execution_count": 72,
   "id": "a19bc4c1",
   "metadata": {},
   "outputs": [
    {
     "data": {
      "image/png": "[encoded data removed]",
      "text/plain": [
       "<Figure size 432x288 with 2 Axes>"
      ]
     },
     "metadata": {},
     "output_type": "display_data"
    }
   ],
   "source": [
    "from sklearn.metrics import confusion_matrix, ConfusionMatrixDisplay\n",
    "M = confusion_matrix(y_test, y_pred)\n",
    "\n",
    "ConfusionMatrixDisplay(M).plot()\n",
    "plt.grid(None)"
   ]
  },
  {
   "cell_type": "code",
   "execution_count": 73,
   "id": "41432aee",
   "metadata": {},
   "outputs": [
    {
     "ename": "NameError",
     "evalue": "name 'confu' is not defined",
     "output_type": "error",
     "traceback": [
      "\u001b[1;31m---------------------------------------------------------------------------\u001b[0m",
      "\u001b[1;31mNameError\u001b[0m                                 Traceback (most recent call last)",
      "\u001b[1;32m~\\AppData\\Local\\Temp/ipykernel_17716/3587529518.py\u001b[0m in \u001b[0;36m<module>\u001b[1;34m\u001b[0m\n\u001b[1;32m----> 1\u001b[1;33m \u001b[0mconfu\u001b[0m\u001b[1;33m\u001b[0m\u001b[1;33m\u001b[0m\u001b[0m\n\u001b[0m",
      "\u001b[1;31mNameError\u001b[0m: name 'confu' is not defined"
     ]
    }
   ],
   "source": []
  },
  {
   "cell_type": "code",
   "execution_count": null,
   "id": "b0752ae5",
   "metadata": {},
   "outputs": [],
   "source": []
  },
  {
   "cell_type": "code",
   "execution_count": null,
   "id": "d4d713c9",
   "metadata": {},
   "outputs": [],
   "source": []
  },
  {
   "cell_type": "code",
   "execution_count": null,
   "id": "6b8e5808",
   "metadata": {},
   "outputs": [],
   "source": []
  },
  {
   "cell_type": "code",
   "execution_count": null,
   "id": "13df4a6f",
   "metadata": {},
   "outputs": [],
   "source": []
  },
  {
   "cell_type": "code",
   "execution_count": null,
   "id": "f8f71bc5",
   "metadata": {},
   "outputs": [],
   "source": []
  },
  {
   "cell_type": "markdown",
   "id": "9a81b9ab",
   "metadata": {},
   "source": [
    "# Imports\n",
    "\n",
    "from sklearn.metrics import roc_auc_score\n",
    "from sklearn.metrics import accuracy_score\n",
    "from sklearn.metrics import precision_score\n",
    "from sklearn.metrics import f1_score\n",
    "from sklearn.metrics import recall_score\n",
    "from IPython.display import clear_output\n",
    "\n",
    "# Dictionary to store all our models.\n",
    "\n",
    "models = dict()\n",
    "\n",
    "# Set up our preprocessing and pipeline\n",
    "\n",
    "scaler = RobustScaler()\n",
    "encoder = OneHotEncoder(drop = \"if_binary\")\n",
    "\n",
    "num_cols = make_column_selector(dtype_include = \"number\")\n",
    "cat_cols = make_column_selector(dtype_include = \"object\")\n",
    "\n",
    "preprocessing = make_column_transformer((scaler, num_cols),\n",
    "                                        (encoder, cat_cols))\n",
    "\n",
    "model = LogisticRegression(max_iter = 1000)\n",
    "\n",
    "pipe = make_pipeline(preprocessing, model)\n",
    "\n",
    "for num_of_feats in list(combinations.keys())[9:]:\n",
    "    \n",
    "    container = []\n",
    "    progress = 0\n",
    "    length = len(combinations[num_of_feats])\n",
    "    \n",
    "    for combination in combinations[num_of_feats]:\n",
    "        \n",
    "        progress+=1\n",
    "        clear_output(wait=True)\n",
    "        print(f\"Working on combinations of {num_of_feats} features:\\n\\nTotal progress:\\t{int(round(num_of_feats/len(combinations.keys())*100,0))}%\")\n",
    "        print(f\"Sub-progress:\\t{round(progress/length*100)}%\")\n",
    "        \n",
    "        \n",
    "        comb = list(combination)\n",
    "        \n",
    "        # Select subset of training/test data using a specific combination of features.\n",
    "        \n",
    "        X_train_sub = X_train[comb]\n",
    "        X_test_sub = X_test[comb]\n",
    "        \n",
    "        # Fit data to model\n",
    "        \n",
    "        pipe.fit(X_train_sub, y_train)\n",
    "        \n",
    "        # Get and store scores\n",
    "        \n",
    "        y_true = y_test\n",
    "        y_pred_sub = pipe.predict(X_test_sub)\n",
    "\n",
    "        score_recall = recall_score(y_true, y_pred_sub)\n",
    "        score_accuracy = accuracy_score(y_true, y_pred_sub)\n",
    "        score_precision = precision_score(y_true, y_pred_sub)\n",
    "        score_f1 = f1_score(y_true, y_pred_sub)\n",
    "        score_roc = roc_auc_score(y_true, y_pred_sub)\n",
    "        \n",
    "        all_scores = {\"recall\" : score_recall,\n",
    "                      \"accuracy\" : score_accuracy,\n",
    "                      \"precision\" : score_precision,\n",
    "                      \"F1\" : score_f1,\n",
    "                      \"ROC/AUC\" : score_roc}\n",
    "        \n",
    "        # Append score and combination to our container\n",
    "        \n",
    "        container.append((score_recall, comb, all_scores))\n",
    "        \n",
    "    # Get the best score for n features\n",
    "    \n",
    "    best_combination = max(container, key = lambda x: x[0])\n",
    "    \n",
    "    # Add that score and corresponding combination to our model dictionary\n",
    "    \n",
    "    models[num_of_feats] = best_combination "
   ]
  },
  {
   "cell_type": "code",
   "execution_count": null,
   "id": "b16205fc",
   "metadata": {},
   "outputs": [],
   "source": [
    "for i in df.columns:\n",
    "    print(i)"
   ]
  }
 ],
 "metadata": {
  "kernelspec": {
   "display_name": "Python 3 (ipykernel)",
   "language": "python",
   "name": "python3"
  },
  "language_info": {
   "codemirror_mode": {
    "name": "ipython",
    "version": 3
   },
   "file_extension": ".py",
   "mimetype": "text/x-python",
   "name": "python",
   "nbconvert_exporter": "python",
   "pygments_lexer": "ipython3",
   "version": "3.9.7"
  }
 },
 "nbformat": 4,
 "nbformat_minor": 5
}
